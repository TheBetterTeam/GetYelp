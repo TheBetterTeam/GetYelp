{
 "cells": [
  {
   "cell_type": "code",
   "execution_count": 6,
   "metadata": {
    "collapsed": true
   },
   "outputs": [],
   "source": [
    "import numpy as np\n",
    "import scipy.stats as sc\n",
    "import pandas as pd\n",
    "import matplotlib.pyplot as plt\n",
    "from sklearn.cluster import KMeans\n",
    "from mpl_toolkits.mplot3d import Axes3D"
   ]
  },
  {
   "cell_type": "code",
   "execution_count": 10,
   "metadata": {},
   "outputs": [
    {
     "name": "stdout",
     "output_type": "stream",
     "text": [
      "53\n"
     ]
    }
   ],
   "source": [
    "review_fields = ['stars']\n",
    "review_chunks = pd.read_csv(\"yelp_review.csv\",usecols=review_fields,chunksize=100000)\n",
    "means = []\n",
    "for r in review_chunks:\n",
    "    means.append(np.mean(r['stars']))\n",
    "    del r\n",
    "np.mean(means)"
   ]
  },
  {
   "cell_type": "code",
   "execution_count": 142,
   "metadata": {},
   "outputs": [
    {
     "data": {
      "image/png": "[encoded data removed]",
      "text/plain": [
       "<matplotlib.figure.Figure at 0x7f0d1a7d1e10>"
      ]
     },
     "metadata": {},
     "output_type": "display_data"
    },
    {
     "name": "stdout",
     "output_type": "stream",
     "text": [
      "4089    20131129\n",
      "956     20110510\n",
      "4951    20120124\n",
      "4781    20140717\n",
      "2580    20110916\n",
      "Name: date, dtype: object\n"
     ]
    }
   ],
   "source": [
    "rows = np.random.choice(business_df.index.values, 1000)\n",
    "rows_users = np.random.choice(user_sample_1.index.values, )\n",
    "sampled_business_df = business_df.iloc[rows]\n",
    "sampled_user_df = user_sample_1.iloc[rows_users]\n",
    "\n",
    "lats = sampled_business_df['latitude']\n",
    "longs = sampled_business_df['longitude']\n",
    "business_stars = sampled_business_df['stars']\n",
    "user_stars = sampled_user_df['stars']\n",
    "user_date = sampled_user_df['date'].apply(lambda x: x.replace(\"-\",\"\"))\n",
    "fig = plt.figure()\n",
    "ax = fig.add_subplot(111)\n",
    "\n",
    "ax.scatter(user_date, user_stars, c='r', marker='o')\n",
    "\n",
    "ax.set_xlabel('User Stars')\n",
    "ax.set_ylabel('User Date')\n",
    "\n",
    "plt.show( )\n",
    "\n",
    "X = []\n",
    "for item in zip(user_date,user_stars):\n",
    "    X.append([item[0], item[1]])\n",
    "print(user_date)"
   ]
  },
  {
   "cell_type": "code",
   "execution_count": 159,
   "metadata": {},
   "outputs": [
    {
     "name": "stdout",
     "output_type": "stream",
     "text": [
      "20122679.2\n"
     ]
    },
    {
     "data": {
      "image/png": "[encoded data removed]",
      "text/plain": [
       "<matplotlib.figure.Figure at 0x7f0d24d279e8>"
      ]
     },
     "metadata": {},
     "output_type": "display_data"
    }
   ],
   "source": [
    "plt.figure(figsize=(10,10))\n",
    "k_means = KMeans(n_clusters=1)\n",
    "k_means.fit(X)\n",
    "centroids = k_means.cluster_centers_\n",
    "print(centroids[0][0]/1)\n",
    "plt.scatter(user_date, user_stars, c=\"green\")\n",
    "plt.scatter(centroids[:,0], centroids[:,1], \n",
    "            marker=\"x\", s=300,c=\"red\",linewidth=4)\n",
    "plt.show()"
   ]
  },
  {
   "cell_type": "markdown",
   "metadata": {},
   "source": [
    "## This code will replace the string of categories with the first in the list."
   ]
  },
  {
   "cell_type": "markdown",
   "metadata": {},
   "source": [
    "item_types = []\n",
    "i = 0\n",
    "for row in business_df.iterrows():\n",
    "    typ = row[1]['categories']\n",
    "    type_set = typ.split(\";\")[0]\n",
    "    business_df.categories[business_df.categories == typ] = type_set"
   ]
  },
  {
   "cell_type": "code",
   "execution_count": null,
   "metadata": {
    "collapsed": true
   },
   "outputs": [],
   "source": [
    "plt.figure(figsize=(30,10))\n",
    "plt.hist(business_df['categories'].head(350))\n",
    "plt.show()"
   ]
  },
  {
   "cell_type": "code",
   "execution_count": null,
   "metadata": {
    "collapsed": true
   },
   "outputs": [],
   "source": [
    "print(business_df['categories'])"
   ]
  },
  {
   "cell_type": "markdown",
   "metadata": {},
   "source": [
    "# Data Cleaning\n",
    "### Drop missing values\n",
    "We're going to drop the missing values that we don't need"
   ]
  },
  {
   "cell_type": "code",
   "execution_count": 102,
   "metadata": {
    "collapsed": true
   },
   "outputs": [],
   "source": [
    "business_df = business_df.dropna()\n",
    "#reviews = [chunk for chunks in review_chunks]"
   ]
  },
  {
   "cell_type": "markdown",
   "metadata": {},
   "source": [
    "# Chunk Information\n",
    "There are 18 Chunks of (approximate) size 10,000 for Business Hours\n",
    "\n",
    "There are 526 chunks of (approximate) size 10,000 for Review Chunks (Before Cleaning)"
   ]
  },
  {
   "cell_type": "code",
   "execution_count": 97,
   "metadata": {},
   "outputs": [
    {
     "name": "stdout",
     "output_type": "stream",
     "text": [
      "Chunks:  526\n"
     ]
    }
   ],
   "source": [
    "count = 0\n",
    "for i in review_chunks:\n",
    "    count += 1\n",
    "print(\"Chunks: \",count)"
   ]
  },
  {
   "cell_type": "code",
   "execution_count": 67,
   "metadata": {
    "collapsed": true
   },
   "outputs": [],
   "source": [
    "#plt.scatter(business_df['review_count'],business_df['stars'])"
   ]
  },
  {
   "cell_type": "code",
   "execution_count": 180,
   "metadata": {
    "scrolled": false
   },
   "outputs": [
    {
     "data": {
      "image/png": "[encoded data removed]",
      "text/plain": [
       "<matplotlib.figure.Figure at 0x7f0d2592c5c0>"
      ]
     },
     "metadata": {},
     "output_type": "display_data"
    },
    {
     "name": "stdout",
     "output_type": "stream",
     "text": [
      "1199.2153846153851\n"
     ]
    },
    {
     "data": {
      "image/png": "[encoded data removed]",
      "text/plain": [
       "<matplotlib.figure.Figure at 0x7f0d2462ed68>"
      ]
     },
     "metadata": {},
     "output_type": "display_data"
    }
   ],
   "source": [
    "business_mod_1 = business_df[business_df.review_count > 1000]\n",
    "business_mod_2 = business_df[business_df.review_count < 1000]\n",
    "Z = []\n",
    "for i in range(len(business_mod_1)):\n",
    "    Z.append([business_mod_1['review_count'].iloc[i], business_mod_1['stars'].iloc[i]])\n",
    "z = zip(business_mod_1['review_count'], business_mod_1['stars'])\n",
    "plt.scatter(business_mod_1['review_count'], business_mod_1['stars'],color=\"orange\")\n",
    "plt.scatter(business_mod_2['review_count'], business_mod_2['stars'],color=\"green\")\n",
    "plt.title(\"Review Count vs Stars\")\n",
    "plt.axvline(1000)\n",
    "plt.axvline(3000)\n",
    "plt.xlabel(\"Review Count\")\n",
    "plt.ylabel(\"Stars\")\n",
    "plt.show()\n",
    "\n",
    "plt.figure(figsize=(10,10))\n",
    "k_means = KMeans(n_clusters=5)\n",
    "k_means.fit(Z)\n",
    "centroids = k_means.cluster_centers_\n",
    "print(centroids[0][0]/1)\n",
    "plt.scatter(business_mod_1['review_count'], business_mod_1['stars'],color=\"orange\")\n",
    "plt.scatter(business_mod_2['review_count'], business_mod_2['stars'],color=\"green\")\n",
    "plt.scatter(centroids[:,0], centroids[:,1], \n",
    "            marker=\"x\", s=200,c=\"red\",linewidth=4)\n",
    "plt.title(\"Review Count vs Stars\")\n",
    "plt.xlabel(\"Review Count\")\n",
    "plt.ylabel(\"Stars\")\n",
    "plt.legend(['>1000','<1000','centroid'])\n",
    "plt.show()"
   ]
  },
  {
   "cell_type": "markdown",
   "metadata": {},
   "source": [
    "Interesting note -> The majority of businesses with more than 3,000 reviews Have a 2.5 rating or above"
   ]
  },
  {
   "cell_type": "code",
   "execution_count": 164,
   "metadata": {
    "collapsed": true
   },
   "outputs": [],
   "source": [
    "business_mod = business_df[business_df.review_count > 1000]"
   ]
  },
  {
   "cell_type": "markdown",
   "metadata": {},
   "source": []
  }
 ],
 "metadata": {
  "kernelspec": {
   "display_name": "Python 3",
   "language": "python",
   "name": "python3"
  },
  "language_info": {
   "codemirror_mode": {
    "name": "ipython",
    "version": 3
   },
   "file_extension": ".py",
   "mimetype": "text/x-python",
   "name": "python",
   "nbconvert_exporter": "python",
   "pygments_lexer": "ipython3",
   "version": "3.6.3"
  }
 },
 "nbformat": 4,
 "nbformat_minor": 2
}
