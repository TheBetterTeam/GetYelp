{
 "cells": [
  {
   "cell_type": "code",
   "execution_count": 41,
   "metadata": {
    "collapsed": true
   },
   "outputs": [],
   "source": [
    "import numpy as np\n",
    "import scipy.stats as sc\n",
    "import pandas as pd\n",
    "import matplotlib.pyplot as plt"
   ]
  },
  {
   "cell_type": "code",
   "execution_count": 116,
   "metadata": {
    "collapsed": true
   },
   "outputs": [],
   "source": [
    "review_fields = ['review_id', 'user_id', 'business_id', 'stars', 'date']\n",
    "review_fields2 = ['user_id', 'business_id', 'stars']\n",
    "business_fields = ['business_id', 'name', 'city', 'state', 'postal_code', 'latitude', 'longitude', 'stars', 'review_count', 'categories', 'is_open']\n",
    "user_fields = ['user_id', 'name', 'review_count', 'yelping_since', 'average_stars']"
   ]
  },
  {
   "cell_type": "code",
   "execution_count": 213,
   "metadata": {},
   "outputs": [],
   "source": [
    "prefix = \"/Users/Dominic/Downloads/\"\n",
    "business_df = pd.read_csv(prefix + \"yelp_business.csv\", usecols=business_fields)\n",
    "review_chunks = pd.read_csv(prefix + \"yelp_review.csv\",usecols=review_fields,chunksize=500000)\n",
    "users = pd.read_csv(prefix + \"yelp_user.csv\",usecols=user_fields)"
   ]
  },
  {
   "cell_type": "code",
   "execution_count": 117,
   "metadata": {
    "collapsed": true
   },
   "outputs": [],
   "source": [
    "reviews_raw = pd.read_csv(prefix + \"yelp_review.csv\",usecols=review_fields2)"
   ]
  },
  {
   "cell_type": "code",
   "execution_count": 52,
   "metadata": {
    "collapsed": true
   },
   "outputs": [],
   "source": [
    "class Sampleable:\n",
    "    def __init__(self, sample):\n",
    "        self.sample = self.__mutate(sample)\n",
    "        assert isinstance(self.sample, pd.core.frame.DataFrame)\n",
    "        self.sample.dropna()\n",
    "        self.sample_size = 0\n",
    "            \n",
    "    def __mutate(self, sample):\n",
    "        if isinstance(sample, pd.io.parsers.TextFileReader):\n",
    "            for s in sample: sample = s; break\n",
    "        return sample\n",
    "    \n",
    "    def getType(self):\n",
    "        return self.type\n",
    "    \n",
    "    def getSample(self, n_samples):\n",
    "        self.sample_size = n_samples\n",
    "        rows = np.random.choice(self.sample.index.values, n_samples)\n",
    "        return self.sample.iloc[rows]\n",
    "    \n",
    "    def getOrderedSample(self, n_samples):\n",
    "        return self.sample.head(n_samples)\n",
    "    \n",
    "    def randomMutate(self, new_sample):\n",
    "        self.sample = self.__mutate(new_sample)\n",
    "    \n",
    "businessSampler = Sampleable(business_df)\n",
    "reviewSampler = Sampleable(review_chunks)\n",
    "userSampler = Sampleable(users)"
   ]
  },
  {
   "cell_type": "markdown",
   "metadata": {},
   "source": [
    "Make sure the data looks how we want it:"
   ]
  },
  {
   "cell_type": "code",
   "execution_count": 189,
   "metadata": {},
   "outputs": [],
   "source": [
    "#business_df.head(3)"
   ]
  },
  {
   "cell_type": "code",
   "execution_count": 190,
   "metadata": {},
   "outputs": [],
   "source": [
    "#users.head(3)"
   ]
  },
  {
   "cell_type": "code",
   "execution_count": 191,
   "metadata": {},
   "outputs": [],
   "source": [
    "#reviewSampler.getSample(150000).head(3)\n",
    "#So I guess every time this is ran it will be different!"
   ]
  },
  {
   "cell_type": "code",
   "execution_count": 192,
   "metadata": {},
   "outputs": [],
   "source": [
    "#userSampler.getSample(150000).head(3)"
   ]
  },
  {
   "cell_type": "code",
   "execution_count": 56,
   "metadata": {},
   "outputs": [
    {
     "data": {
      "text/plain": [
       "count    1.326100e+06\n",
       "mean     2.311717e+01\n",
       "std      7.909808e+01\n",
       "min      0.000000e+00\n",
       "25%      2.000000e+00\n",
       "50%      5.000000e+00\n",
       "75%      1.500000e+01\n",
       "max      1.195400e+04\n",
       "Name: review_count, dtype: float64"
      ]
     },
     "execution_count": 56,
     "metadata": {},
     "output_type": "execute_result"
    }
   ],
   "source": [
    "#Info on user reviews\n",
    "users['review_count'].describe()"
   ]
  },
  {
   "cell_type": "code",
   "execution_count": 97,
   "metadata": {},
   "outputs": [
    {
     "data": {
      "text/plain": [
       "5903"
      ]
     },
     "execution_count": 97,
     "metadata": {},
     "output_type": "execute_result"
    }
   ],
   "source": [
    "users[users['review_count'] > 500]['review_count'].count()"
   ]
  },
  {
   "cell_type": "code",
   "execution_count": 109,
   "metadata": {},
   "outputs": [],
   "source": [
    "#only around 6000 user have reviews over 500, and there are over a million users, so this is neglegable\n",
    "users1 = userSampler.getSample(150000)\n",
    "users2 = users1[users1['review_count'] < 500]"
   ]
  },
  {
   "cell_type": "code",
   "execution_count": 115,
   "metadata": {},
   "outputs": [
    {
     "data": {
      "image/png": "[encoded data removed]",
      "text/plain": [
       "<matplotlib.figure.Figure at 0x2af78f533c8>"
      ]
     },
     "metadata": {},
     "output_type": "display_data"
    }
   ],
   "source": [
    "plt.scatter(users2['review_count'], users2['average_stars'])\n",
    "plt.xlabel('Number of reviews')\n",
    "plt.ylabel('Average rating')\n",
    "plt.title('# of review VS average rating')\n",
    "plt.show()"
   ]
  },
  {
   "cell_type": "markdown",
   "metadata": {},
   "source": [
    "As can be seen above, people with more reviews tend to have a similar review average, making people with more reviews less bias and likely more accurate."
   ]
  },
  {
   "cell_type": "markdown",
   "metadata": {},
   "source": [
    "Lets take a small sample of businesses and normalize their reviews:"
   ]
  },
  {
   "cell_type": "code",
   "execution_count": 194,
   "metadata": {},
   "outputs": [],
   "source": [
    "bus = businessSampler.getSample(1000).dropna()\n",
    "bus.rename(columns={'stars':'bus_stars'}, inplace=True)\n",
    "#bus.head(3)"
   ]
  },
  {
   "cell_type": "code",
   "execution_count": 195,
   "metadata": {},
   "outputs": [
    {
     "data": {
      "image/png": "[encoded data removed]",
      "text/plain": [
       "<matplotlib.figure.Figure at 0x2af7539a6d8>"
      ]
     },
     "metadata": {},
     "output_type": "display_data"
    }
   ],
   "source": [
    "plt.scatter(bus['latitude'], bus['longitude'])\n",
    "plt.xlabel('Lat')\n",
    "plt.ylabel('Long')\n",
    "plt.title('Location')\n",
    "plt.show()"
   ]
  },
  {
   "cell_type": "markdown",
   "metadata": {},
   "source": [
    "Above is a graphical representation for fun of the physical location of the businesses that we have selected, shows by by latitude and longitude."
   ]
  },
  {
   "cell_type": "code",
   "execution_count": 196,
   "metadata": {},
   "outputs": [],
   "source": [
    "#now we merge the businesses, all their cooresponding reviews in the data, and the user information that belongs with those reviews\n",
    "bus_adv = pd.merge(bus, reviews_raw, on='business_id')\n",
    "bus_adv = pd.merge(bus_adv, users, on='user_id')\n",
    "#bus_adv.describe()"
   ]
  },
  {
   "cell_type": "code",
   "execution_count": 214,
   "metadata": {},
   "outputs": [],
   "source": [
    "#bus_adv.head(3)"
   ]
  },
  {
   "cell_type": "code",
   "execution_count": 215,
   "metadata": {},
   "outputs": [],
   "source": [
    "old_adv1 = []\n",
    "for item in bus['business_id']:\n",
    "    adv1 = bus_adv[bus_adv['business_id'] == item]['stars'].mean()\n",
    "    \n",
    "    summ = 0\n",
    "    reviews = 0.0\n",
    "    for index, row in bus_adv[bus_adv['business_id'] == item].iterrows():\n",
    "        user_num_rev = row['review_count_y']\n",
    "        weight = 1.0\n",
    "        if (user_num_rev > 50):\n",
    "            #for every review they have over 50, their weight increases by 0.1\n",
    "            weight = 1.0 + 0.01 * (user_num_rev - 50.0)\n",
    "        summ = summ + row['stars'] * weight\n",
    "        reviews = reviews + weight\n",
    "    old_adv1.append([item, adv1, summ / reviews, adv1-summ/reviews])\n",
    "old_adv = pd.DataFrame(old_adv1, columns=['business_id', 'reg_adv', 'new_adv', 'diff'])"
   ]
  },
  {
   "cell_type": "code",
   "execution_count": 199,
   "metadata": {},
   "outputs": [
    {
     "data": {
      "image/png": "[encoded data removed]",
      "text/plain": [
       "<matplotlib.figure.Figure at 0x2af7216cba8>"
      ]
     },
     "metadata": {},
     "output_type": "display_data"
    }
   ],
   "source": [
    "plt.hist(old_adv['reg_adv'], bins = 9)\n",
    "plt.xlabel('Business Stars')\n",
    "plt.ylabel('Frequency')\n",
    "plt.title('Business ratings')\n",
    "plt.show()"
   ]
  },
  {
   "cell_type": "code",
   "execution_count": 217,
   "metadata": {},
   "outputs": [
    {
     "data": {
      "image/png": "[encoded data removed]",
      "text/plain": [
       "<matplotlib.figure.Figure at 0x2af11f5d2e8>"
      ]
     },
     "metadata": {},
     "output_type": "display_data"
    }
   ],
   "source": [
    "plt.hist(old_adv['diff'], range=(-1,1))\n",
    "plt.xlabel('Difference between regular average and weighted average')\n",
    "plt.ylabel('Frequency')\n",
    "plt.title('Change in average based on weighted ratings')\n",
    "plt.show()"
   ]
  },
  {
   "cell_type": "markdown",
   "metadata": {},
   "source": [
    "The graph above takes into account average star rating of a business and the start rating if you give more weight to people who have made more reviews."
   ]
  },
  {
   "cell_type": "code",
   "execution_count": 216,
   "metadata": {
    "collapsed": true
   },
   "outputs": [],
   "source": [
    "norm_bus1 = []\n",
    "#true mean of all reviews in dataset\n",
    "adv_stars_all = 3.72770311158596\n",
    "for item in bus['business_id']:\n",
    "    adv1 = bus_adv[bus_adv['business_id'] == item]['stars'].mean()\n",
    "    \n",
    "    summ = 0.0\n",
    "    reviews = 0.0\n",
    "    for index, row in bus_adv[bus_adv['business_id'] == item].iterrows():\n",
    "        diff = adv_stars_all - row['average_stars']\n",
    "        summ = summ + row['stars'] + diff\n",
    "        reviews = reviews + 1\n",
    "    \n",
    "    norm_bus1.append([item, adv1, summ / reviews, adv1-summ/reviews])\n",
    "norm_bus = pd.DataFrame(norm_bus1, columns=['business_id', 'reg_adv', 'new_adv', 'diff'])"
   ]
  },
  {
   "cell_type": "code",
   "execution_count": 218,
   "metadata": {},
   "outputs": [
    {
     "data": {
      "image/png": "[encoded data removed]",
      "text/plain": [
       "<matplotlib.figure.Figure at 0x2af11f791d0>"
      ]
     },
     "metadata": {},
     "output_type": "display_data"
    }
   ],
   "source": [
    "plt.hist(norm_bus['diff'], range=(-2,2))\n",
    "plt.xlabel('Difference between regular average and normalized average')\n",
    "plt.ylabel('Frequency')\n",
    "plt.title('Change in average based on normalized ratings')\n",
    "plt.show()"
   ]
  },
  {
   "cell_type": "markdown",
   "metadata": {},
   "source": [
    "The graph above takes into account average star rating of a business and the start rating if you normalize every review based on the average review stars on the user."
   ]
  }
 ],
 "metadata": {
  "kernelspec": {
   "display_name": "Python 3",
   "language": "python",
   "name": "python3"
  },
  "language_info": {
   "codemirror_mode": {
    "name": "ipython",
    "version": 3
   },
   "file_extension": ".py",
   "mimetype": "text/x-python",
   "name": "python",
   "nbconvert_exporter": "python",
   "pygments_lexer": "ipython3",
   "version": "3.6.3"
  }
 },
 "nbformat": 4,
 "nbformat_minor": 2
}
