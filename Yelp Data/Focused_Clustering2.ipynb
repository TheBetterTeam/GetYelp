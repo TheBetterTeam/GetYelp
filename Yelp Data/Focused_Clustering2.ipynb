{
 "cells": [
  {
   "cell_type": "code",
   "execution_count": 1,
   "metadata": {
    "collapsed": true
   },
   "outputs": [],
   "source": [
    "import numpy as np\n",
    "import scipy.stats as sc\n",
    "import pandas as pd\n",
    "import matplotlib.pyplot as plt\n",
    "import folium"
   ]
  },
  {
   "cell_type": "code",
   "execution_count": 2,
   "metadata": {
    "collapsed": true
   },
   "outputs": [],
   "source": [
    "review_fields = ['review_id', 'user_id', 'business_id', 'stars', 'date']\n",
    "review_fields2 = ['user_id', 'business_id', 'stars']\n",
    "business_fields = ['business_id', 'name', 'city', 'state', 'postal_code', 'latitude', 'longitude', 'stars', 'review_count', 'categories', 'is_open']\n",
    "user_fields = ['user_id', 'name', 'review_count', 'yelping_since', 'average_stars']"
   ]
  },
  {
   "cell_type": "code",
   "execution_count": 14,
   "metadata": {},
   "outputs": [],
   "source": [
    "prefix = ''#\"/Users/Dominic/Downloads/\"\n",
    "business_df = pd.read_csv(prefix + \"yelp_business.csv\", usecols=business_fields)\n",
    "review_chunks = pd.read_csv(prefix + \"yelp_review.csv\",usecols=review_fields,chunksize=500000)\n",
    "users = pd.read_csv(prefix + \"yelp_user.csv\",usecols=user_fields)\n",
    "reviews_raw = pd.read_csv(prefix + \"yelp_review.csv\",usecols=review_fields2)\n",
    "business_hours = pd.read_csv(prefix + \"yelp_business_hours.csv\")"
   ]
  },
  {
   "cell_type": "code",
   "execution_count": 15,
   "metadata": {
    "collapsed": true
   },
   "outputs": [],
   "source": [
    "class Sampleable:\n",
    "    def __init__(self, sample):\n",
    "        self.sample = self.__mutate(sample)\n",
    "        assert isinstance(self.sample, pd.core.frame.DataFrame)\n",
    "        self.sample.dropna()\n",
    "        self.sample_size = 0\n",
    "            \n",
    "    def __mutate(self, sample):\n",
    "        if isinstance(sample, pd.io.parsers.TextFileReader):\n",
    "            for s in sample: sample = s; break\n",
    "        return sample\n",
    "    \n",
    "    def getType(self):\n",
    "        return self.type\n",
    "    \n",
    "    def getSample(self, n_samples):\n",
    "        self.sample_size = n_samples\n",
    "        rows = np.random.choice(self.sample.index.values, n_samples)\n",
    "        return self.sample.iloc[rows]\n",
    "    \n",
    "    def getOrderedSample(self, n_samples):\n",
    "        return self.sample.head(n_samples)\n",
    "    \n",
    "    def randomMutate(self, new_sample):\n",
    "        self.sample = self.__mutate(new_sample)\n",
    "    \n",
    "businessSampler = Sampleable(business_df)\n",
    "reviewSampler = Sampleable(review_chunks)\n",
    "userSampler = Sampleable(users)\n",
    "businessHoursSampler = Sampleable(business_hours)"
   ]
  },
  {
   "cell_type": "code",
   "execution_count": 16,
   "metadata": {},
   "outputs": [],
   "source": [
    "b_samp = businessSampler.getSample(50000)\n",
    "h_samp = businessHoursSampler.getSample(50000)"
   ]
  },
  {
   "cell_type": "code",
   "execution_count": 79,
   "metadata": {},
   "outputs": [],
   "source": [
    "week = ['monday', 'tuesday', 'wednesday', 'thursday', 'friday', 'saturday', 'sunday']\n",
    "def remove_none(sample):\n",
    "    for day in week:\n",
    "        sample = sample[sample[day] != 'None']\n",
    "    return sample\n",
    "\n",
    "def times_to_hours_2(text):\n",
    "    text = text.split('-')\n",
    "    if len(text) < 2:\n",
    "        return 0\n",
    "    start = text[0].split(':')\n",
    "    end = text[1].split(':')\n",
    "    hours = int(end[0]) - int(start[0])\n",
    "    mins = int(end[1]) - int(start[1])\n",
    "    return abs(round(float(hours) + (float(mins) / 60.), 1))\n",
    "\n",
    "def times_to_hours(row):\n",
    "    sum1 = 0.\n",
    "    for day in week:\n",
    "        sum1 = sum1 + times_to_hours_2(row[day])\n",
    "    return round(sum1 / 7., 2)\n",
    "#print(times_to_hours('4:30-22:10'))"
   ]
  },
  {
   "cell_type": "code",
   "execution_count": 81,
   "metadata": {},
   "outputs": [],
   "source": [
    "#h_samp.replace('None', None)\n",
    "#remove_none(h_samp).describe()\n",
    "sample = remove_none(h_samp)\n",
    "#sample.count()\n",
    "#sample[83905]\n",
    "#sample.head()\n",
    "sample['hours_open'] = sample.apply(times_to_hours, axis = 1)\n",
    "#sample.head()"
   ]
  },
  {
   "cell_type": "code",
   "execution_count": 82,
   "metadata": {
    "scrolled": false
   },
   "outputs": [
    {
     "data": {
      "text/html": [
       "<div>\n",
       "<style>\n",
       "    .dataframe thead tr:only-child th {\n",
       "        text-align: right;\n",
       "    }\n",
       "\n",
       "    .dataframe thead th {\n",
       "        text-align: left;\n",
       "    }\n",
       "\n",
       "    .dataframe tbody tr th {\n",
       "        vertical-align: top;\n",
       "    }\n",
       "</style>\n",
       "<table border=\"1\" class=\"dataframe\">\n",
       "  <thead>\n",
       "    <tr style=\"text-align: right;\">\n",
       "      <th></th>\n",
       "      <th>business_id</th>\n",
       "      <th>hours_open</th>\n",
       "      <th>name</th>\n",
       "      <th>city</th>\n",
       "      <th>state</th>\n",
       "      <th>postal_code</th>\n",
       "      <th>latitude</th>\n",
       "      <th>longitude</th>\n",
       "      <th>stars</th>\n",
       "      <th>review_count</th>\n",
       "      <th>is_open</th>\n",
       "      <th>categories</th>\n",
       "    </tr>\n",
       "  </thead>\n",
       "  <tbody>\n",
       "    <tr>\n",
       "      <th>83905</th>\n",
       "      <td>rAUdaM-mBLSBu79hNNnODA</td>\n",
       "      <td>10.00</td>\n",
       "      <td>\"Brunel\"</td>\n",
       "      <td>Edinburgh</td>\n",
       "      <td>EDH</td>\n",
       "      <td>EH3 9NY</td>\n",
       "      <td>55.941519</td>\n",
       "      <td>-3.210350</td>\n",
       "      <td>4.0</td>\n",
       "      <td>4</td>\n",
       "      <td>0</td>\n",
       "      <td>Coffee &amp; Tea;Food</td>\n",
       "    </tr>\n",
       "    <tr>\n",
       "      <th>116879</th>\n",
       "      <td>00Hwe34krmUvWqMYqbIOHQ</td>\n",
       "      <td>6.14</td>\n",
       "      <td>\"Laser Quest\"</td>\n",
       "      <td>Mississauga</td>\n",
       "      <td>ON</td>\n",
       "      <td>L4Y 4A2</td>\n",
       "      <td>43.605942</td>\n",
       "      <td>-79.587626</td>\n",
       "      <td>4.5</td>\n",
       "      <td>5</td>\n",
       "      <td>1</td>\n",
       "      <td>Party &amp; Event Planning;Active Life;Laser Tag;E...</td>\n",
       "    </tr>\n",
       "    <tr>\n",
       "      <th>125463</th>\n",
       "      <td>_quVlmD-dxLi3y3k8t1izg</td>\n",
       "      <td>7.86</td>\n",
       "      <td>\"Century Cycles\"</td>\n",
       "      <td>Peninsula</td>\n",
       "      <td>OH</td>\n",
       "      <td>44264</td>\n",
       "      <td>41.241251</td>\n",
       "      <td>-81.549329</td>\n",
       "      <td>4.5</td>\n",
       "      <td>15</td>\n",
       "      <td>1</td>\n",
       "      <td>Active Life;Sporting Goods;Bike Repair/Mainten...</td>\n",
       "    </tr>\n",
       "    <tr>\n",
       "      <th>41023</th>\n",
       "      <td>OYaL_-uxBCgrE94uNQ4VCA</td>\n",
       "      <td>9.00</td>\n",
       "      <td>\"Lino's Pizzeria &amp; Italian Cuisine\"</td>\n",
       "      <td>Las Vegas</td>\n",
       "      <td>NV</td>\n",
       "      <td>89130</td>\n",
       "      <td>36.274484</td>\n",
       "      <td>-115.252556</td>\n",
       "      <td>4.0</td>\n",
       "      <td>96</td>\n",
       "      <td>1</td>\n",
       "      <td>Food;Italian;Salad;Desserts;Pizza;Sandwiches;R...</td>\n",
       "    </tr>\n",
       "    <tr>\n",
       "      <th>172562</th>\n",
       "      <td>eR7Iw_X54m3YLWkXp9y35Q</td>\n",
       "      <td>5.21</td>\n",
       "      <td>\"Tonkatsu Kiyoshi\"</td>\n",
       "      <td>Las Vegas</td>\n",
       "      <td>NV</td>\n",
       "      <td>89139</td>\n",
       "      <td>36.047985</td>\n",
       "      <td>-115.224432</td>\n",
       "      <td>4.5</td>\n",
       "      <td>477</td>\n",
       "      <td>1</td>\n",
       "      <td>Food;Restaurants;Specialty Food;Japanese;Ethni...</td>\n",
       "    </tr>\n",
       "  </tbody>\n",
       "</table>\n",
       "</div>"
      ],
      "text/plain": [
       "                   business_id  hours_open  \\\n",
       "83905   rAUdaM-mBLSBu79hNNnODA       10.00   \n",
       "116879  00Hwe34krmUvWqMYqbIOHQ        6.14   \n",
       "125463  _quVlmD-dxLi3y3k8t1izg        7.86   \n",
       "41023   OYaL_-uxBCgrE94uNQ4VCA        9.00   \n",
       "172562  eR7Iw_X54m3YLWkXp9y35Q        5.21   \n",
       "\n",
       "                                       name         city state postal_code  \\\n",
       "83905                              \"Brunel\"    Edinburgh   EDH     EH3 9NY   \n",
       "116879                        \"Laser Quest\"  Mississauga    ON     L4Y 4A2   \n",
       "125463                     \"Century Cycles\"    Peninsula    OH       44264   \n",
       "41023   \"Lino's Pizzeria & Italian Cuisine\"    Las Vegas    NV       89130   \n",
       "172562                   \"Tonkatsu Kiyoshi\"    Las Vegas    NV       89139   \n",
       "\n",
       "         latitude   longitude  stars  review_count  is_open  \\\n",
       "83905   55.941519   -3.210350    4.0             4        0   \n",
       "116879  43.605942  -79.587626    4.5             5        1   \n",
       "125463  41.241251  -81.549329    4.5            15        1   \n",
       "41023   36.274484 -115.252556    4.0            96        1   \n",
       "172562  36.047985 -115.224432    4.5           477        1   \n",
       "\n",
       "                                               categories  \n",
       "83905                                   Coffee & Tea;Food  \n",
       "116879  Party & Event Planning;Active Life;Laser Tag;E...  \n",
       "125463  Active Life;Sporting Goods;Bike Repair/Mainten...  \n",
       "41023   Food;Italian;Salad;Desserts;Pizza;Sandwiches;R...  \n",
       "172562  Food;Restaurants;Specialty Food;Japanese;Ethni...  "
      ]
     },
     "execution_count": 82,
     "metadata": {},
     "output_type": "execute_result"
    }
   ],
   "source": [
    "sample2 = sample[['business_id', 'hours_open']].join(business_df.set_index('business_id'), on='business_id', lsuffix='_l',rsuffix='_r')\n",
    "sample2.head()"
   ]
  },
  {
   "cell_type": "code",
   "execution_count": 85,
   "metadata": {},
   "outputs": [
    {
     "data": {
      "image/png": "[encoded data removed]",
      "text/plain": [
       "<matplotlib.figure.Figure at 0x28f3e819710>"
      ]
     },
     "metadata": {},
     "output_type": "display_data"
    }
   ],
   "source": [
    "plt.figure(figsize=(10,10))\n",
    "plt.hist(sample2['hours_open'], range=(0,24), bins=24)\n",
    "plt.xlabel('Average hours open per day')\n",
    "plt.ylabel('Frequency')\n",
    "plt.title('How many hours per day are business open')\n",
    "plt.show()"
   ]
  },
  {
   "cell_type": "code",
   "execution_count": 84,
   "metadata": {},
   "outputs": [
    {
     "data": {
      "image/png": "[encoded data removed]",
      "text/plain": [
       "<matplotlib.figure.Figure at 0x28f48a87f60>"
      ]
     },
     "metadata": {},
     "output_type": "display_data"
    }
   ],
   "source": [
    "plt.figure(figsize=(10,10))\n",
    "plt.scatter(sample2['hours_open'],sample2['stars'])\n",
    "plt.xlabel('Hours open')\n",
    "plt.ylabel('Star rating')\n",
    "plt.title('')\n",
    "plt.show()"
   ]
  },
  {
   "cell_type": "code",
   "execution_count": 13,
   "metadata": {},
   "outputs": [
    {
     "data": {
      "text/html": [
       "<div style=\"width:100%;\"><div style=\"position:relative;width:100%;height:0;padding-bottom:60%;\"><iframe src=\"data:text/html;charset=utf-8;base64,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\" style=\"position:absolute;width:100%;height:100%;left:0;top:0;border:none !important;\" allowfullscreen webkitallowfullscreen mozallowfullscreen></iframe></div></div>"
      ],
      "text/plain": [
       "<folium.folium.Map at 0x28f6b79dac8>"
      ]
     },
     "execution_count": 13,
     "metadata": {},
     "output_type": "execute_result"
    }
   ],
   "source": [
    "m = folium.Map(location=[20, 0], tiles=\"Mapbox Bright\", zoom_start=2)\n",
    "\n",
    "for index, row in b_samp.head(10).iterrows():\n",
    "    s = \"{} ({})\".format(row['name'].strip(\"\\\"\").replace(\"'\", \"\"),row['stars'])\n",
    "    folium.Marker([row['latitude'], row['longitude']], popup=s).add_to(m)\n",
    "m"
   ]
  },
  {
   "cell_type": "code",
   "execution_count": null,
   "metadata": {
    "collapsed": true
   },
   "outputs": [],
   "source": []
  }
 ],
 "metadata": {
  "kernelspec": {
   "display_name": "Python 3",
   "language": "python",
   "name": "python3"
  },
  "language_info": {
   "codemirror_mode": {
    "name": "ipython",
    "version": 3
   },
   "file_extension": ".py",
   "mimetype": "text/x-python",
   "name": "python",
   "nbconvert_exporter": "python",
   "pygments_lexer": "ipython3",
   "version": "3.6.3"
  }
 },
 "nbformat": 4,
 "nbformat_minor": 2
}
