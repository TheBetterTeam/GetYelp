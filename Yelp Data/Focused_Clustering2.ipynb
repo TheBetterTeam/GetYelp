{
 "cells": [
  {
   "cell_type": "code",
   "execution_count": 1,
   "metadata": {
    "collapsed": true
   },
   "outputs": [],
   "source": [
    "import numpy as np\n",
    "import scipy.stats as sc\n",
    "import pandas as pd\n",
    "import matplotlib.pyplot as plt\n",
    "import folium"
   ]
  },
  {
   "cell_type": "code",
   "execution_count": 2,
   "metadata": {
    "collapsed": true
   },
   "outputs": [],
   "source": [
    "review_fields = ['review_id', 'user_id', 'business_id', 'stars', 'date']\n",
    "review_fields2 = ['user_id', 'business_id', 'stars']\n",
    "business_fields = ['business_id', 'name', 'city', 'state', 'postal_code', 'latitude', 'longitude', 'stars', 'review_count', 'categories', 'is_open']\n",
    "user_fields = ['user_id', 'name', 'review_count', 'yelping_since', 'average_stars']"
   ]
  },
  {
   "cell_type": "code",
   "execution_count": 14,
   "metadata": {},
   "outputs": [],
   "source": [
    "prefix = ''#\"/Users/Dominic/Downloads/\"\n",
    "business_df = pd.read_csv(prefix + \"yelp_business.csv\", usecols=business_fields)\n",
    "review_chunks = pd.read_csv(prefix + \"yelp_review.csv\",usecols=review_fields,chunksize=500000)\n",
    "users = pd.read_csv(prefix + \"yelp_user.csv\",usecols=user_fields)\n",
    "reviews_raw = pd.read_csv(prefix + \"yelp_review.csv\",usecols=review_fields2)\n",
    "business_hours = pd.read_csv(prefix + \"yelp_business_hours.csv\")"
   ]
  },
  {
   "cell_type": "code",
   "execution_count": 15,
   "metadata": {
    "collapsed": true
   },
   "outputs": [],
   "source": [
    "class Sampleable:\n",
    "    def __init__(self, sample):\n",
    "        self.sample = self.__mutate(sample)\n",
    "        assert isinstance(self.sample, pd.core.frame.DataFrame)\n",
    "        self.sample.dropna()\n",
    "        self.sample_size = 0\n",
    "            \n",
    "    def __mutate(self, sample):\n",
    "        if isinstance(sample, pd.io.parsers.TextFileReader):\n",
    "            for s in sample: sample = s; break\n",
    "        return sample\n",
    "    \n",
    "    def getType(self):\n",
    "        return self.type\n",
    "    \n",
    "    def getSample(self, n_samples):\n",
    "        self.sample_size = n_samples\n",
    "        rows = np.random.choice(self.sample.index.values, n_samples)\n",
    "        return self.sample.iloc[rows]\n",
    "    \n",
    "    def getOrderedSample(self, n_samples):\n",
    "        return self.sample.head(n_samples)\n",
    "    \n",
    "    def randomMutate(self, new_sample):\n",
    "        self.sample = self.__mutate(new_sample)\n",
    "    \n",
    "businessSampler = Sampleable(business_df)\n",
    "reviewSampler = Sampleable(review_chunks)\n",
    "userSampler = Sampleable(users)\n",
    "businessHoursSampler = Sampleable(business_hours)"
   ]
  },
  {
   "cell_type": "code",
   "execution_count": 16,
   "metadata": {},
   "outputs": [],
   "source": [
    "b_samp = businessSampler.getSample(50000)\n",
    "h_samp = businessHoursSampler.getSample(50000)"
   ]
  },
  {
   "cell_type": "code",
   "execution_count": 79,
   "metadata": {},
   "outputs": [],
   "source": [
    "week = ['monday', 'tuesday', 'wednesday', 'thursday', 'friday', 'saturday', 'sunday']\n",
    "def remove_none(sample):\n",
    "    for day in week:\n",
    "        sample = sample[sample[day] != 'None']\n",
    "    return sample\n",
    "\n",
    "def times_to_hours_2(text):\n",
    "    text = text.split('-')\n",
    "    if len(text) < 2:\n",
    "        return 0\n",
    "    start = text[0].split(':')\n",
    "    end = text[1].split(':')\n",
    "    hours = int(end[0]) - int(start[0])\n",
    "    mins = int(end[1]) - int(start[1])\n",
    "    return abs(round(float(hours) + (float(mins) / 60.), 1))\n",
    "\n",
    "def times_to_hours(row):\n",
    "    sum1 = 0.\n",
    "    for day in week:\n",
    "        sum1 = sum1 + times_to_hours_2(row[day])\n",
    "    return round(sum1 / 7., 2)\n",
    "#print(times_to_hours('4:30-22:10'))"
   ]
  },
  {
   "cell_type": "code",
   "execution_count": 81,
   "metadata": {},
   "outputs": [],
   "source": [
    "#h_samp.replace('None', None)\n",
    "#remove_none(h_samp).describe()\n",
    "sample = remove_none(h_samp)\n",
    "#sample.count()\n",
    "#sample[83905]\n",
    "#sample.head()\n",
    "sample['hours_open'] = sample.apply(times_to_hours, axis = 1)\n",
    "#sample.head()"
   ]
  },
  {
   "cell_type": "code",
   "execution_count": 82,
   "metadata": {
    "scrolled": false
   },
   "outputs": [
    {
     "data": {
      "text/html": [
       "<div>\n",
       "<style>\n",
       "    .dataframe thead tr:only-child th {\n",
       "        text-align: right;\n",
       "    }\n",
       "\n",
       "    .dataframe thead th {\n",
       "        text-align: left;\n",
       "    }\n",
       "\n",
       "    .dataframe tbody tr th {\n",
       "        vertical-align: top;\n",
       "    }\n",
       "</style>\n",
       "<table border=\"1\" class=\"dataframe\">\n",
       "  <thead>\n",
       "    <tr style=\"text-align: right;\">\n",
       "      <th></th>\n",
       "      <th>business_id</th>\n",
       "      <th>hours_open</th>\n",
       "      <th>name</th>\n",
       "      <th>city</th>\n",
       "      <th>state</th>\n",
       "      <th>postal_code</th>\n",
       "      <th>latitude</th>\n",
       "      <th>longitude</th>\n",
       "      <th>stars</th>\n",
       "      <th>review_count</th>\n",
       "      <th>is_open</th>\n",
       "      <th>categories</th>\n",
       "    </tr>\n",
       "  </thead>\n",
       "  <tbody>\n",
       "    <tr>\n",
       "      <th>83905</th>\n",
       "      <td>rAUdaM-mBLSBu79hNNnODA</td>\n",
       "      <td>10.00</td>\n",
       "      <td>\"Brunel\"</td>\n",
       "      <td>Edinburgh</td>\n",
       "      <td>EDH</td>\n",
       "      <td>EH3 9NY</td>\n",
       "      <td>55.941519</td>\n",
       "      <td>-3.210350</td>\n",
       "      <td>4.0</td>\n",
       "      <td>4</td>\n",
       "      <td>0</td>\n",
       "      <td>Coffee &amp; Tea;Food</td>\n",
       "    </tr>\n",
       "    <tr>\n",
       "      <th>116879</th>\n",
       "      <td>00Hwe34krmUvWqMYqbIOHQ</td>\n",
       "      <td>6.14</td>\n",
       "      <td>\"Laser Quest\"</td>\n",
       "      <td>Mississauga</td>\n",
       "      <td>ON</td>\n",
       "      <td>L4Y 4A2</td>\n",
       "      <td>43.605942</td>\n",
       "      <td>-79.587626</td>\n",
       "      <td>4.5</td>\n",
       "      <td>5</td>\n",
       "      <td>1</td>\n",
       "      <td>Party &amp; Event Planning;Active Life;Laser Tag;E...</td>\n",
       "    </tr>\n",
       "    <tr>\n",
       "      <th>125463</th>\n",
       "      <td>_quVlmD-dxLi3y3k8t1izg</td>\n",
       "      <td>7.86</td>\n",
       "      <td>\"Century Cycles\"</td>\n",
       "      <td>Peninsula</td>\n",
       "      <td>OH</td>\n",
       "      <td>44264</td>\n",
       "      <td>41.241251</td>\n",
       "      <td>-81.549329</td>\n",
       "      <td>4.5</td>\n",
       "      <td>15</td>\n",
       "      <td>1</td>\n",
       "      <td>Active Life;Sporting Goods;Bike Repair/Mainten...</td>\n",
       "    </tr>\n",
       "    <tr>\n",
       "      <th>41023</th>\n",
       "      <td>OYaL_-uxBCgrE94uNQ4VCA</td>\n",
       "      <td>9.00</td>\n",
       "      <td>\"Lino's Pizzeria &amp; Italian Cuisine\"</td>\n",
       "      <td>Las Vegas</td>\n",
       "      <td>NV</td>\n",
       "      <td>89130</td>\n",
       "      <td>36.274484</td>\n",
       "      <td>-115.252556</td>\n",
       "      <td>4.0</td>\n",
       "      <td>96</td>\n",
       "      <td>1</td>\n",
       "      <td>Food;Italian;Salad;Desserts;Pizza;Sandwiches;R...</td>\n",
       "    </tr>\n",
       "    <tr>\n",
       "      <th>172562</th>\n",
       "      <td>eR7Iw_X54m3YLWkXp9y35Q</td>\n",
       "      <td>5.21</td>\n",
       "      <td>\"Tonkatsu Kiyoshi\"</td>\n",
       "      <td>Las Vegas</td>\n",
       "      <td>NV</td>\n",
       "      <td>89139</td>\n",
       "      <td>36.047985</td>\n",
       "      <td>-115.224432</td>\n",
       "      <td>4.5</td>\n",
       "      <td>477</td>\n",
       "      <td>1</td>\n",
       "      <td>Food;Restaurants;Specialty Food;Japanese;Ethni...</td>\n",
       "    </tr>\n",
       "  </tbody>\n",
       "</table>\n",
       "</div>"
      ],
      "text/plain": [
       "                   business_id  hours_open  \\\n",
       "83905   rAUdaM-mBLSBu79hNNnODA       10.00   \n",
       "116879  00Hwe34krmUvWqMYqbIOHQ        6.14   \n",
       "125463  _quVlmD-dxLi3y3k8t1izg        7.86   \n",
       "41023   OYaL_-uxBCgrE94uNQ4VCA        9.00   \n",
       "172562  eR7Iw_X54m3YLWkXp9y35Q        5.21   \n",
       "\n",
       "                                       name         city state postal_code  \\\n",
       "83905                              \"Brunel\"    Edinburgh   EDH     EH3 9NY   \n",
       "116879                        \"Laser Quest\"  Mississauga    ON     L4Y 4A2   \n",
       "125463                     \"Century Cycles\"    Peninsula    OH       44264   \n",
       "41023   \"Lino's Pizzeria & Italian Cuisine\"    Las Vegas    NV       89130   \n",
       "172562                   \"Tonkatsu Kiyoshi\"    Las Vegas    NV       89139   \n",
       "\n",
       "         latitude   longitude  stars  review_count  is_open  \\\n",
       "83905   55.941519   -3.210350    4.0             4        0   \n",
       "116879  43.605942  -79.587626    4.5             5        1   \n",
       "125463  41.241251  -81.549329    4.5            15        1   \n",
       "41023   36.274484 -115.252556    4.0            96        1   \n",
       "172562  36.047985 -115.224432    4.5           477        1   \n",
       "\n",
       "                                               categories  \n",
       "83905                                   Coffee & Tea;Food  \n",
       "116879  Party & Event Planning;Active Life;Laser Tag;E...  \n",
       "125463  Active Life;Sporting Goods;Bike Repair/Mainten...  \n",
       "41023   Food;Italian;Salad;Desserts;Pizza;Sandwiches;R...  \n",
       "172562  Food;Restaurants;Specialty Food;Japanese;Ethni...  "
      ]
     },
     "execution_count": 82,
     "metadata": {},
     "output_type": "execute_result"
    }
   ],
   "source": [
    "sample2 = sample[['business_id', 'hours_open']].join(business_df.set_index('business_id'), on='business_id', lsuffix='_l',rsuffix='_r')\n",
    "sample2.head()"
   ]
  },
  {
   "cell_type": "code",
   "execution_count": 91,
   "metadata": {},
   "outputs": [
    {
     "data": {
      "image/png": "[encoded data removed]",
      "text/plain": [
       "<matplotlib.figure.Figure at 0x28f390c60f0>"
      ]
     },
     "metadata": {},
     "output_type": "display_data"
    }
   ],
   "source": [
    "plt.figure(figsize=(10,10))\n",
    "plt.hist(sample2['hours_open'], range=(0,24), bins=24)\n",
    "plt.xlabel('Average hours open per day')\n",
    "plt.ylabel('Frequency')\n",
    "plt.title('How many hours per day are businesses open')\n",
    "plt.show()"
   ]
  },
  {
   "cell_type": "code",
   "execution_count": 92,
   "metadata": {},
   "outputs": [
    {
     "data": {
      "image/png": "[encoded data removed]",
      "text/plain": [
       "<matplotlib.figure.Figure at 0x28f3a2dcd68>"
      ]
     },
     "metadata": {},
     "output_type": "display_data"
    }
   ],
   "source": [
    "plt.figure(figsize=(10,10))\n",
    "plt.scatter(sample2[sample2['review_count'] > 50]['hours_open'],sample2[sample2['review_count'] > 50]['stars'])\n",
    "plt.xlabel('Hours open')\n",
    "plt.ylabel('Star rating')\n",
    "plt.title('Hours open vs rating on businesses with more than 50 review')\n",
    "plt.show()"
   ]
  },
  {
   "cell_type": "code",
   "execution_count": 93,
   "metadata": {},
   "outputs": [
    {
     "data": {
      "text/plain": [
       "-0.030601027257594206"
      ]
     },
     "execution_count": 93,
     "metadata": {},
     "output_type": "execute_result"
    }
   ],
   "source": [
    "sample2['hours_open'].corr(sample2['stars'])"
   ]
  },
  {
   "cell_type": "code",
   "execution_count": 95,
   "metadata": {},
   "outputs": [
    {
     "data": {
      "text/plain": [
       "47740"
      ]
     },
     "execution_count": 95,
     "metadata": {},
     "output_type": "execute_result"
    }
   ],
   "source": [
    "focused_sample = b_samp[(b_samp['longitude'] < -50) & (b_samp['latitude'] <= 60) & (b_samp['latitude']>=0)]\n",
    "len(focused_sample)"
   ]
  },
  {
   "cell_type": "code",
   "execution_count": 96,
   "metadata": {
    "collapsed": true
   },
   "outputs": [],
   "source": [
    "def get_map_color(stars):\n",
    "    if stars >= 4.5:\n",
    "        return 'green'\n",
    "    if stars >= 3.5:\n",
    "        return 'lightgreen'\n",
    "    if stars >= 2.5:\n",
    "        return 'red'\n",
    "    return 'darkred'"
   ]
  },
  {
   "cell_type": "code",
   "execution_count": 98,
   "metadata": {},
   "outputs": [
    {
     "ename": "SyntaxError",
     "evalue": "invalid syntax (<ipython-input-98-aa0be565326c>, line 6)",
     "output_type": "error",
     "traceback": [
      "\u001b[1;36m  File \u001b[1;32m\"<ipython-input-98-aa0be565326c>\"\u001b[1;36m, line \u001b[1;32m6\u001b[0m\n\u001b[1;33m    m\u001b[0m\n\u001b[1;37m    ^\u001b[0m\n\u001b[1;31mSyntaxError\u001b[0m\u001b[1;31m:\u001b[0m invalid syntax\n"
     ]
    }
   ],
   "source": [
    "m = folium.Map(location=[20, 0], tiles=\"Mapbox Bright\", zoom_start=2)\n",
    "\n",
    "for index, row in focused_sample.head(100).iterrows():\n",
    "    s = \"{} ({})\".format(row['name'].strip(\"\\\"\").replace(\"'\", \"\"),row['stars'])\n",
    "    folium.Marker([row['latitude'], row['longitude']], popup=s, icon=folium.Icon(color=get_map_color(row['stars'])).add_to(m)\n",
    "m"
   ]
  },
  {
   "cell_type": "code",
   "execution_count": null,
   "metadata": {
    "collapsed": true
   },
   "outputs": [],
   "source": []
  }
 ],
 "metadata": {
  "kernelspec": {
   "display_name": "Python 3",
   "language": "python",
   "name": "python3"
  },
  "language_info": {
   "codemirror_mode": {
    "name": "ipython",
    "version": 3
   },
   "file_extension": ".py",
   "mimetype": "text/x-python",
   "name": "python",
   "nbconvert_exporter": "python",
   "pygments_lexer": "ipython3",
   "version": "3.6.3"
  }
 },
 "nbformat": 4,
 "nbformat_minor": 2
}
