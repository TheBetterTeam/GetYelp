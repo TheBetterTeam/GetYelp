{
 "cells": [
  {
   "cell_type": "code",
   "execution_count": 1,
   "metadata": {
    "collapsed": true
   },
   "outputs": [],
   "source": [
    "import numpy as np\n",
    "import scipy.stats as sc\n",
    "import pandas as pd\n",
    "import matplotlib.pyplot as plt\n",
    "import folium"
   ]
  },
  {
   "cell_type": "code",
   "execution_count": 2,
   "metadata": {
    "collapsed": true
   },
   "outputs": [],
   "source": [
    "review_fields = ['review_id', 'user_id', 'business_id', 'stars', 'date']\n",
    "review_fields2 = ['user_id', 'business_id', 'stars']\n",
    "business_fields = ['business_id', 'name', 'city', 'state', 'postal_code', 'latitude', 'longitude', 'stars', 'review_count', 'categories', 'is_open']\n",
    "user_fields = ['user_id', 'name', 'review_count', 'yelping_since', 'average_stars']"
   ]
  },
  {
   "cell_type": "code",
   "execution_count": null,
   "metadata": {},
   "outputs": [],
   "source": [
    "prefix = ''#\"/Users/Dominic/Downloads/\"\n",
    "business_df = pd.read_csv(prefix + \"yelp_business.csv\", usecols=business_fields)\n",
    "review_chunks = pd.read_csv(prefix + \"yelp_review.csv\",usecols=review_fields,chunksize=500000)\n",
    "users = pd.read_csv(prefix + \"yelp_user.csv\",usecols=user_fields)\n",
    "reviews_raw = pd.read_csv(prefix + \"yelp_review.csv\",usecols=review_fields2)"
   ]
  },
  {
   "cell_type": "code",
   "execution_count": null,
   "metadata": {
    "collapsed": true
   },
   "outputs": [],
   "source": [
    "class Sampleable:\n",
    "    def __init__(self, sample):\n",
    "        self.sample = self.__mutate(sample)\n",
    "        assert isinstance(self.sample, pd.core.frame.DataFrame)\n",
    "        self.sample.dropna()\n",
    "        self.sample_size = 0\n",
    "            \n",
    "    def __mutate(self, sample):\n",
    "        if isinstance(sample, pd.io.parsers.TextFileReader):\n",
    "            for s in sample: sample = s; break\n",
    "        return sample\n",
    "    \n",
    "    def getType(self):\n",
    "        return self.type\n",
    "    \n",
    "    def getSample(self, n_samples):\n",
    "        self.sample_size = n_samples\n",
    "        rows = np.random.choice(self.sample.index.values, n_samples)\n",
    "        return self.sample.iloc[rows]\n",
    "    \n",
    "    def getOrderedSample(self, n_samples):\n",
    "        return self.sample.head(n_samples)\n",
    "    \n",
    "    def randomMutate(self, new_sample):\n",
    "        self.sample = self.__mutate(new_sample)\n",
    "    \n",
    "businessSampler = Sampleable(business_df)\n",
    "reviewSampler = Sampleable(review_chunks)\n",
    "userSampler = Sampleable(users)"
   ]
  },
  {
   "cell_type": "code",
   "execution_count": null,
   "metadata": {
    "collapsed": true
   },
   "outputs": [],
   "source": []
  }
 ],
 "metadata": {
  "kernelspec": {
   "display_name": "Python 3",
   "language": "python",
   "name": "python3"
  },
  "language_info": {
   "codemirror_mode": {
    "name": "ipython",
    "version": 3
   },
   "file_extension": ".py",
   "mimetype": "text/x-python",
   "name": "python",
   "nbconvert_exporter": "python",
   "pygments_lexer": "ipython3",
   "version": "3.6.3"
  }
 },
 "nbformat": 4,
 "nbformat_minor": 2
}
