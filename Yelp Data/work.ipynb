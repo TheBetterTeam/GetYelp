{
 "cells": [
  {
   "cell_type": "markdown",
   "metadata": {},
   "source": [
    "# Import\n",
    "Nothing special, KMeans for quick clustering (Needs to implement mediods :( ) \n",
    "Axes3D used for 3D, better to run in terminal because you can interact with it!"
   ]
  },
  {
   "cell_type": "code",
   "execution_count": 298,
   "metadata": {
    "collapsed": true
   },
   "outputs": [],
   "source": [
    "import matplotlib\n",
    "import numpy as np\n",
    "import scipy.stats as sc\n",
    "import pandas as pd\n",
    "import matplotlib.pyplot as plt\n",
    "import copy as cp\n",
    "from sklearn.cluster import KMeans\n",
    "from mpl_toolkits.mplot3d import Axes3D\n",
    "from random import randint"
   ]
  },
  {
   "cell_type": "markdown",
   "metadata": {},
   "source": [
    "## Review data, Business data and User data\n",
    "We're reducing our data here initially to save on loading space."
   ]
  },
  {
   "cell_type": "code",
   "execution_count": 299,
   "metadata": {
    "collapsed": true
   },
   "outputs": [],
   "source": [
    "review_fields = ['review_id', 'user_id', 'business_id', 'stars', 'date'] #text\n",
    "business_fields = ['business_id', 'name', 'city', 'state', 'postal_code', 'latitude', 'longitude', 'stars', 'review_count', 'categories']\n",
    "user_fields = ['review_id', 'user_id', 'business_id', 'stars', 'date']"
   ]
  },
  {
   "cell_type": "markdown",
   "metadata": {
    "collapsed": true
   },
   "source": [
    "# Create the dataframes\n",
    "review and user dataframes are gonna be HUGE so we should chunk them, and for now just use a sample to solidify ideas"
   ]
  },
  {
   "cell_type": "code",
   "execution_count": 330,
   "metadata": {
    "collapsed": true
   },
   "outputs": [],
   "source": [
    "business_df = pd.read_csv(\"yelp_business.csv\", usecols=business_fields)\n",
    "hours_df = pd.read_csv(\"yelp_business_hours.csv\")\n",
    "review_chunks = pd.read_csv(\"yelp_review.csv\",usecols=review_fields,chunksize=100000)\n",
    "users = pd.read_csv(\"yelp_review.csv\",usecols=user_fields, chunksize=100000)"
   ]
  },
  {
   "cell_type": "code",
   "execution_count": 480,
   "metadata": {
    "collapsed": true
   },
   "outputs": [],
   "source": [
    "## TODO: Put everyone's cleaning code in here!"
   ]
  },
  {
   "cell_type": "code",
   "execution_count": 331,
   "metadata": {
    "collapsed": true
   },
   "outputs": [],
   "source": [
    "class Sampleable:\n",
    "    def __init__(self, sample):\n",
    "        self.sample = self.__mutate(sample)\n",
    "        assert isinstance(self.sample, pd.core.frame.DataFrame)\n",
    "        \n",
    "        self.sample_size = 0\n",
    "            \n",
    "    def __mutate(self, sample):\n",
    "        if isinstance(sample, pd.io.parsers.TextFileReader):\n",
    "            for s in sample: sample = s; break\n",
    "        return sample\n",
    "    \n",
    "    def getType(self):\n",
    "        return self.type\n",
    "    \n",
    "    def getSample(self, n_samples):\n",
    "        self.sample_size = n_samples\n",
    "        rows = np.random.choice(self.sample.index.values, n_samples)\n",
    "        return self.sample.iloc[rows]\n",
    "    \n",
    "    def randomMutate(self, new_sample):\n",
    "        self.sample = self.__mutate(new_sample)\n",
    "    \n",
    "businessSampler = Sampleable(business_df)\n",
    "hoursSampler = Sampleable(hours_df)\n",
    "reviewSampler = Sampleable(review_chunks)\n",
    "userSampler = Sampleable(users)"
   ]
  },
  {
   "cell_type": "markdown",
   "metadata": {
    "collapsed": true
   },
   "source": [
    "# It's important to use these `Sampleable`\n",
    "Objects to get samples, methods return a dataframe to work with and have methods for quick resampling"
   ]
  },
  {
   "cell_type": "code",
   "execution_count": 332,
   "metadata": {
    "collapsed": true
   },
   "outputs": [],
   "source": [
    "b_samp = businessSampler.getSample(5000)\n",
    "h_samp = hoursSampler.getSample(1000)\n",
    "r_samp = reviewSampler.getSample(1000)\n",
    "u_samp = userSampler.getSample(1000)"
   ]
  },
  {
   "cell_type": "markdown",
   "metadata": {
    "collapsed": true
   },
   "source": [
    "### The Sample Size\n",
    "Feel free to use something else, but just to start illustrating a point 1000 will be fine?"
   ]
  },
  {
   "cell_type": "code",
   "execution_count": 456,
   "metadata": {
    "collapsed": true
   },
   "outputs": [],
   "source": [
    "class GraphInfoObject2D:\n",
    "    def __init__(self, title, x_vars, y_vars):\n",
    "        self.title = title\n",
    "        self.x = x_vars[0]\n",
    "        self.y = y_vars[0]\n",
    "        self.xlabel = x_vars[1]\n",
    "        self.ylabel = y_vars[1]\n",
    "        self.primary_color = 'yellow'\n",
    "        self.secondary_color = 'purple'\n",
    "        self.tertiary_color = 'blue'\n",
    "    def getTitle(self):\n",
    "        return self.title\n",
    "    def getXLabel(self):\n",
    "        return self.xlabel\n",
    "    def getYLabel(self):\n",
    "        return self.ylabel\n",
    "    def getColor(self,level):\n",
    "        if(level == 1):\n",
    "            return self.primary_color\n",
    "        elif(level == 2):\n",
    "            return self.secondary_color\n",
    "        elif(level == 3):\n",
    "            return self.tertiary_color\n",
    "        return self.primary_color\n",
    "    def setColor(self, level, color):\n",
    "        if(level == 1):\n",
    "            self.primary_color = color\n",
    "        elif(level == 2):\n",
    "            self.secondar_color = color\n",
    "        else:\n",
    "            self.tertiary_color = color\n",
    "\n",
    "class Graph2DScatter:\n",
    "    def __init__(self, GIO, x_data, y_data, size=(10,10)):\n",
    "        self.fig = plt.figure(figsize=size)\n",
    "        self.ax = self.fig.add_subplot(111)\n",
    "        self.GIO = GIO\n",
    "        self.data = (x_data, y_data)\n",
    "        self.size = size\n",
    "        self.icon_size = size[0] * size[1] + 75\n",
    "        \n",
    "    def create(self):\n",
    "        self.ax.scatter(self.data[0], self.data[1],c=self.GIO.getColor(1),marker='o')\n",
    "        self.ax.set_title(self.GIO.getTitle())\n",
    "        self.ax.set_xlabel(self.GIO.getXLabel())\n",
    "        self.ax.set_ylabel(self.GIO.getYLabel())\n",
    "        \n",
    "    def display(self):\n",
    "        plt.show()\n",
    "        \n",
    "    def create_additional(self, x_data, y_data, color_labels=False, labels=None, colors=[], marker='o',s=10):\n",
    "        if(color_labels):\n",
    "            if(labels is None or colors == []): print(\"ERROR: Labels not assigned!\"); return\n",
    "            self.ax.scatter(x_data, y_data, c=labels, cmap=matplotlib.colors.ListedColormap(colors), marker=marker)  \n",
    "        else:\n",
    "            self.ax.scatter(x_data, y_data, c=self.GIO.getColor(1), marker=marker, s=s)            \n",
    "        self.ax.set_title(self.GIO.getTitle())\n",
    "        self.ax.set_xlabel(self.GIO.getXLabel())\n",
    "        self.ax.set_ylabel(self.GIO.getYLabel())\n",
    "        \n",
    "    def getFigAx(self):\n",
    "        return (self.fig, self.ax)\n"
   ]
  },
  {
   "cell_type": "markdown",
   "metadata": {},
   "source": [
    "## Let's first look at Latitude vs Longitude for Business Locations"
   ]
  },
  {
   "cell_type": "code",
   "execution_count": 462,
   "metadata": {
    "collapsed": true
   },
   "outputs": [],
   "source": [
    "b_samp = businessSampler.getSample(50000)\n",
    "lats = b_samp['latitude']\n",
    "longs = b_samp['longitude']"
   ]
  },
  {
   "cell_type": "markdown",
   "metadata": {},
   "source": [
    "## Also to adhere to the graphing function, we have to make a graph info object"
   ]
  },
  {
   "cell_type": "code",
   "execution_count": 463,
   "metadata": {
    "collapsed": true
   },
   "outputs": [],
   "source": [
    "title = ''.join(['Latitude vs. Longitude for Businesses (', str(businessSampler.sample_size), ' samples)'])\n",
    "GIO_Business = GraphInfoObject2D(title, (lats, 'Latitude'), (longs, 'Longitude'))\n",
    "GIO_Business.setColor(1,'purple')"
   ]
  },
  {
   "cell_type": "code",
   "execution_count": 465,
   "metadata": {},
   "outputs": [
    {
     "data": {
      "image/png": "[encoded data removed]",
      "text/plain": [
       "<matplotlib.figure.Figure at 0x7f33f257c860>"
      ]
     },
     "metadata": {},
     "output_type": "display_data"
    }
   ],
   "source": [
    "graph = Graph2DScatter(GIO_Business, lats, longs)\n",
    "graph.create()\n",
    "graph.display()"
   ]
  },
  {
   "cell_type": "markdown",
   "metadata": {
    "collapsed": true
   },
   "source": [
    "# Before we start graphing with KMeans, let's make a KMeans object for graphing using `GraphInfoObject2D`"
   ]
  },
  {
   "cell_type": "code",
   "execution_count": 466,
   "metadata": {
    "collapsed": true
   },
   "outputs": [],
   "source": [
    "X = []\n",
    "for item in zip(lats,longs):\n",
    "    X.append([item[0], item[1]])"
   ]
  },
  {
   "cell_type": "code",
   "execution_count": 477,
   "metadata": {},
   "outputs": [
    {
     "data": {
      "image/png": "[encoded data removed]",
      "text/plain": [
       "<matplotlib.figure.Figure at 0x7f33f48b9fd0>"
      ]
     },
     "metadata": {},
     "output_type": "display_data"
    }
   ],
   "source": [
    "graph = Graph2DScatter(GIO_Business, lats, longs)\n",
    "GIO_Business.setColor(1, '#7e084b')\n",
    "kmeans = KMeans(n_clusters=3)\n",
    "kmeans.fit(X)\n",
    "centroids = kmeans.cluster_centers_\n",
    "colors = ['#eedc82', 'yellow', 'orange']\n",
    "\n",
    "graph.create_additional(lats, longs, color_labels=True, labels=kmeans.labels_, colors=colors, marker='o')\n",
    "graph.create_additional(centroids[:,0], centroids[:,1], color_labels=False, labels=None, colors=[], marker='x',s=350)\n",
    "graph.display()"
   ]
  },
  {
   "cell_type": "code",
   "execution_count": 478,
   "metadata": {},
   "outputs": [
    {
     "name": "stdout",
     "output_type": "stream",
     "text": [
      "[[  34.52944418 -113.24498616]\n",
      " [  41.56234872  -80.26042882]\n",
      " [  53.13115303    1.65854811]]\n"
     ]
    }
   ],
   "source": [
    "print(centroids)"
   ]
  },
  {
   "cell_type": "code",
   "execution_count": 483,
   "metadata": {},
   "outputs": [],
   "source": [
    "review_count = b_samp['review_count']\n",
    "stars = b_samp['stars']"
   ]
  },
  {
   "cell_type": "code",
   "execution_count": 488,
   "metadata": {
    "collapsed": true
   },
   "outputs": [],
   "source": [
    "title = ''.join(['Review Count vs Star Rating (', str(reviewSampler.sample_size), ' samples)'])\n",
    "GIO_CountvStars = GraphInfoObject2D(title, (review_count, 'Review Count'), (stars, 'Stars'))\n",
    "GIO_CountvStars.setColor(1,'purple')"
   ]
  },
  {
   "cell_type": "code",
   "execution_count": 492,
   "metadata": {},
   "outputs": [
    {
     "data": {
      "image/png": "[encoded data removed]",
      "text/plain": [
       "<matplotlib.figure.Figure at 0x7f33f6845320>"
      ]
     },
     "metadata": {},
     "output_type": "display_data"
    }
   ],
   "source": [
    "X = []\n",
    "for item in zip(review_count,stars):\n",
    "    X.append([item[0], item[1]])\n",
    "    \n",
    "graph = Graph2DScatter(GIO_CountvStars, review_count, stars)\n",
    "\n",
    "kmeans = KMeans(n_clusters=5)\n",
    "kmeans.fit(X)\n",
    "\n",
    "centroids = kmeans.cluster_centers_\n",
    "colors = ['#cd9b1d', 'yellow', 'orange', 'green', 'red']\n",
    "\n",
    "graph.create_additional(review_count, stars, color_labels=True, labels=kmeans.labels_, colors=colors, marker='o')\n",
    "graph.create_additional(centroids[:,0], centroids[:,1], color_labels=False, labels=None, colors=[], marker='x',s=350)\n",
    "graph.display()"
   ]
  }
 ],
 "metadata": {
  "kernelspec": {
   "display_name": "Python 3",
   "language": "python",
   "name": "python3"
  },
  "language_info": {
   "codemirror_mode": {
    "name": "ipython",
    "version": 3
   },
   "file_extension": ".py",
   "mimetype": "text/x-python",
   "name": "python",
   "nbconvert_exporter": "python",
   "pygments_lexer": "ipython3",
   "version": "3.6.3"
  }
 },
 "nbformat": 4,
 "nbformat_minor": 2
}
