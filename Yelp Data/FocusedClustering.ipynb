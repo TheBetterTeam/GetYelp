{
 "cells": [
  {
   "cell_type": "markdown",
   "metadata": {},
   "source": [
    "## Imports\n",
    "These are the same imports as in the origional work notebook."
   ]
  },
  {
   "cell_type": "code",
   "execution_count": 3,
   "metadata": {
    "collapsed": true
   },
   "outputs": [],
   "source": [
    "import matplotlib\n",
    "import numpy as np\n",
    "import scipy.stats as sc\n",
    "import pandas as pd\n",
    "import matplotlib.pyplot as plt\n",
    "import copy as cp\n",
    "from sklearn.cluster import KMeans, DBSCAN\n",
    "from sklearn import metrics\n",
    "from mpl_toolkits.mplot3d import Axes3D\n",
    "from random import randint\n",
    "from sklearn.linear_model import LogisticRegression\n",
    "import seaborn as sns"
   ]
  },
  {
   "cell_type": "markdown",
   "metadata": {
    "collapsed": true
   },
   "source": [
    "## Focused fields\n",
    "We're only going to be looking at these fields, for the same reason listed in the previous work document"
   ]
  },
  {
   "cell_type": "code",
   "execution_count": 17,
   "metadata": {
    "collapsed": true
   },
   "outputs": [],
   "source": [
    "review_fields = ['review_id', 'user_id', 'business_id', 'stars', 'date'] #text\n",
    "business_fields = ['business_id', 'name', 'city', 'state', 'postal_code', 'latitude', 'longitude', 'stars', 'review_count', 'categories', 'is_open']\n",
    "user_fields = ['user_id', 'name', 'review_count', 'average_stars']"
   ]
  },
  {
   "cell_type": "markdown",
   "metadata": {},
   "source": [
    "## Create Dataframes"
   ]
  },
  {
   "cell_type": "code",
   "execution_count": 18,
   "metadata": {},
   "outputs": [],
   "source": [
    "business_df = pd.read_csv(\"yelp_business.csv\", usecols=business_fields)\n",
    "hours_df = pd.read_csv(\"yelp_business_hours.csv\")\n",
    "review_chunks = pd.read_csv(\"yelp_review.csv\",usecols=review_fields,chunksize=500000)\n",
    "users = pd.read_csv(\"yelp_user.csv\", usecols=user_fields, chunksize=500000)"
   ]
  },
  {
   "cell_type": "markdown",
   "metadata": {},
   "source": [
    "## Sampleable\n",
    "The sampleable class allows us to easily sample from the dataframes above. This is needed because the files we read in as chunks are read in as a `TextFileReader` object :( this allows us to use everything easily, and take samples effectively"
   ]
  },
  {
   "cell_type": "code",
   "execution_count": 19,
   "metadata": {},
   "outputs": [],
   "source": [
    "class Sampleable:\n",
    "    def __init__(self, sample):\n",
    "        self.sample = self.__mutate(sample)\n",
    "        assert isinstance(self.sample, pd.core.frame.DataFrame)\n",
    "        self.sample.dropna()\n",
    "        self.sample_size = 0\n",
    "            \n",
    "    def __mutate(self, sample): # Will always return the next chunk\n",
    "        if isinstance(sample, pd.io.parsers.TextFileReader):\n",
    "            for s in sample: sample = s; break\n",
    "        return sample\n",
    "    \n",
    "    def getType(self):\n",
    "        return self.type\n",
    "    \n",
    "    def getRandomSample(self, n_samples):\n",
    "        self.sample_size = n_samples\n",
    "        rows = np.random.choice(self.sample.index.values, n_samples)\n",
    "        return self.sample.iloc[rows]\n",
    "    \n",
    "    def getOrderedSample(self, n_samples):\n",
    "        return self.sample.head(n_samples)\n",
    "    \n",
    "    def randomMutate(self, new_sample):\n",
    "        self.sample = self.__mutate(new_sample)\n",
    "    \n",
    "businessSampler = Sampleable(business_df)\n",
    "hoursSampler = Sampleable(hours_df)\n",
    "reviewSampler = Sampleable(review_chunks)\n",
    "userSampler = Sampleable(users)"
   ]
  },
  {
   "cell_type": "markdown",
   "metadata": {},
   "source": [
    "## Get sampling DataFrames"
   ]
  },
  {
   "cell_type": "code",
   "execution_count": 50,
   "metadata": {},
   "outputs": [],
   "source": [
    "b_samp = businessSampler.getRandomSample(50000)\n",
    "h_samp = hoursSampler.getRandomSample(50000)\n",
    "r_samp = reviewSampler.getRandomSample(50000)\n",
    "u_samp = userSampler.getRandomSample(50000)"
   ]
  },
  {
   "cell_type": "markdown",
   "metadata": {},
   "source": [
    "## Random vs. Ordered & How to use Sampleable\n",
    "The random sampling method will **always** generate a new random sample (without replacement) and store return it as a dataframe. Ordered sample will take the first `n` rows from the top of the dataframe down. It's important to know that if all of the dataframes may not neccesarily line up if you are constantly refreshing the sample. \n",
    "\n",
    "Noting that, it's important that if you're going ot merge a DataFrame on an attribute that you are taking a large enough sample (I've noticed that 10,000 is usually pretty good) to merge on the dataframe.\n",
    "\n",
    "Similarily, it's important to note that these tables are necessarily lined up anyway. What I mean, is that when unless you're loading the majority of the businesses, you're likely unable to get a stable sample when merging two dataframes on an attribute.\n",
    "\n",
    "If however, you need a normal sample, i.e the first `n` rows, taking an ordered sample will do that! "
   ]
  },
  {
   "cell_type": "code",
   "execution_count": 51,
   "metadata": {
    "collapsed": true
   },
   "outputs": [],
   "source": [
    "b_samp_ordered = businessSampler.getOrderedSample(5000)\n",
    "h_samp_ordered = hoursSampler.getOrderedSample(5000)\n",
    "r_samp_ordered = reviewSampler.getOrderedSample(5000)\n",
    "u_samp_ordered = userSampler.getOrderedSample(5000)"
   ]
  },
  {
   "cell_type": "markdown",
   "metadata": {},
   "source": [
    "## Exceptions\n",
    "To handle the exceptions that arise in the wrappers and utility functions"
   ]
  },
  {
   "cell_type": "code",
   "execution_count": 60,
   "metadata": {
    "collapsed": true
   },
   "outputs": [],
   "source": [
    "class MergeException(Exception):\n",
    "    def __init__(message):\n",
    "        super().__init__(message)"
   ]
  },
  {
   "cell_type": "markdown",
   "metadata": {},
   "source": [
    "## Some Utility Functions\n",
    "These are purley for making our lives a little easier."
   ]
  },
  {
   "cell_type": "markdown",
   "metadata": {},
   "source": [
    "## MergeWrapper\n",
    "Merges two dataframes on a specified attribute"
   ]
  },
  {
   "cell_type": "code",
   "execution_count": 146,
   "metadata": {},
   "outputs": [],
   "source": [
    "def mergeWrapper(df1, df2, attribute):\n",
    "    if(not isinstance(d1, pd.core.frame.DataFrame) or not isinstance(df2, pd.core.frame.DataFrame)):\n",
    "        raise MergeException(\"Arguments: DataFrame, DataFrame, String\")\n",
    "    if(not isinstance(attribute, str)):\n",
    "        raise MergeException(\"Merging attribute must be a string\")\n",
    "    if(not attribute in df1 or not attribute in df2):\n",
    "        raise MergeException(\"Couldn't find attribute {} in both dataframes!\".format(attribute))\n",
    "    if(not len(df1) == len(df2)):\n",
    "        raise MergeException(\"Please make sure DataFrames are the same size!\")\n",
    "    df_final = pd.merge(df1.dropna(), df2.dropna(), on=attribute)\n",
    "    return df_final\n",
    "\n",
    "def createClusterData(*args):\n",
    "    z = zip(*args)\n",
    "    X = []\n",
    "    for item in z:\n",
    "        X.append(item)\n",
    "    return X\n",
    "        \n",
    "def cluster(data, n_clusters):\n",
    "    kmeans = KMeans(n_clusters=n_clusters)\n",
    "    kmeans.fit(X)\n",
    "    centroids = kmeans.cluster_centers_\n",
    "    return centroids"
   ]
  },
  {
   "cell_type": "markdown",
   "metadata": {},
   "source": [
    "## Graphing Object\n",
    "The purpose of the graphing object is to store information about the graph such as the title, x and y labels, primary, secondary and tertiary colors."
   ]
  },
  {
   "cell_type": "code",
   "execution_count": 54,
   "metadata": {},
   "outputs": [],
   "source": [
    "class GraphInfo:\n",
    "    def __init__(self, title, x_vars, y_vars,z_vars=(None, 'None')):\n",
    "        self.title = title\n",
    "        if(not isinstance(x_vars, tuple) or not isinstance(y_vars, tuple)):\n",
    "            raise TypeError(\"X and Y vars should be tuples (value, name)\")\n",
    "        self.xvalue, self.yvalue, self.zvalue = x_vars[0], y_vars[0], z_vars[0]\n",
    "        self.xlabel, self.ylabel, self.zlabel = x_vars[1], y_vars[1], z_vars[1]\n",
    "        self.colors = ['Orange','Grey','Purple']\n",
    "        \n",
    "    def getTitle(self):\n",
    "        return self.title\n",
    "    def getLabel(self, label_name):\n",
    "        if(label_name == 'x'):\n",
    "            return self.xlabel\n",
    "        elif(label_name == 'y'):\n",
    "            return self.ylabel\n",
    "        else:\n",
    "            return self.zlabel\n",
    "    def getColor(self, index):\n",
    "        if(index >= len(self.colors)):\n",
    "            return 'Black'\n",
    "        return self.colors[index]"
   ]
  },
  {
   "cell_type": "markdown",
   "metadata": {},
   "source": [
    "# Let's get to some DataMining"
   ]
  },
  {
   "cell_type": "code",
   "execution_count": null,
   "metadata": {
    "collapsed": true
   },
   "outputs": [],
   "source": []
  },
  {
   "cell_type": "code",
   "execution_count": 57,
   "metadata": {},
   "outputs": [
    {
     "data": {
      "image/png": "[encoded data removed]",
      "text/plain": [
       "<matplotlib.figure.Figure at 0x7f63a0310828>"
      ]
     },
     "metadata": {},
     "output_type": "display_data"
    }
   ],
   "source": [
    "plt.scatter(b_samp['latitude'], b_samp['longitude'])\n",
    "plt.title(\"\")\n",
    "plt.show()"
   ]
  },
  {
   "cell_type": "code",
   "execution_count": null,
   "metadata": {
    "collapsed": true
   },
   "outputs": [],
   "source": []
  },
  {
   "cell_type": "code",
   "execution_count": 58,
   "metadata": {},
   "outputs": [],
   "source": [
    "focused_sample = b_samp[(b_samp['longitude'] < -50) & (b_samp['latitude'] <= 60) & (b_samp['latitude']>=0)]"
   ]
  },
  {
   "cell_type": "code",
   "execution_count": 59,
   "metadata": {},
   "outputs": [
    {
     "data": {
      "image/png": "[encoded data removed]",
      "text/plain": [
       "<matplotlib.figure.Figure at 0x7f63a0248dd8>"
      ]
     },
     "metadata": {},
     "output_type": "display_data"
    }
   ],
   "source": [
    "plt.scatter(focused_sample['latitude'], focused_sample['longitude'])\n",
    "plt.show()"
   ]
  },
  {
   "cell_type": "code",
   "execution_count": null,
   "metadata": {
    "collapsed": true
   },
   "outputs": [],
   "source": []
  }
 ],
 "metadata": {
  "kernelspec": {
   "display_name": "Python 3",
   "language": "python",
   "name": "python3"
  },
  "language_info": {
   "codemirror_mode": {
    "name": "ipython",
    "version": 3
   },
   "file_extension": ".py",
   "mimetype": "text/x-python",
   "name": "python",
   "nbconvert_exporter": "python",
   "pygments_lexer": "ipython3",
   "version": "3.6.3"
  }
 },
 "nbformat": 4,
 "nbformat_minor": 2
}
