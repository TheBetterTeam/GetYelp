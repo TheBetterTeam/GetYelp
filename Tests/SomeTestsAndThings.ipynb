{
 "cells": [
  {
   "cell_type": "code",
   "execution_count": 93,
   "metadata": {
    "collapsed": true
   },
   "outputs": [],
   "source": [
    "import numpy as np\n",
    "import scipy.stats as sc\n",
    "import pandas as pd\n",
    "import matplotlib.pyplot as plt"
   ]
  },
  {
   "cell_type": "code",
   "execution_count": 106,
   "metadata": {},
   "outputs": [
    {
     "name": "stdout",
     "output_type": "stream",
     "text": [
      "<class 'pandas.core.frame.DataFrame'>\n",
      "RangeIndex: 174567 entries, 0 to 174566\n",
      "Data columns (total 9 columns):\n",
      "business_id     174567 non-null object\n",
      "name            174567 non-null object\n",
      "city            174566 non-null object\n",
      "state           174566 non-null object\n",
      "postal_code     173944 non-null object\n",
      "latitude        174566 non-null float64\n",
      "longitude       174566 non-null float64\n",
      "stars           174567 non-null float64\n",
      "review_count    174567 non-null int64\n",
      "dtypes: float64(3), int64(1), object(5)\n",
      "memory usage: 12.0+ MB\n",
      "None\n",
      "-------------\n",
      "<class 'pandas.core.frame.DataFrame'>\n",
      "RangeIndex: 10000 entries, 0 to 9999\n",
      "Data columns (total 5 columns):\n",
      "review_id      10000 non-null object\n",
      "user_id        10000 non-null object\n",
      "business_id    10000 non-null object\n",
      "stars          10000 non-null int64\n",
      "date           10000 non-null object\n",
      "dtypes: int64(1), object(4)\n",
      "memory usage: 390.7+ KB\n",
      "None\n",
      "------------------\n",
      "<class 'pandas.core.frame.DataFrame'>\n",
      "RangeIndex: 10000 entries, 0 to 9999\n",
      "Data columns (total 8 columns):\n",
      "business_id    10000 non-null object\n",
      "monday         10000 non-null object\n",
      "tuesday        10000 non-null object\n",
      "wednesday      10000 non-null object\n",
      "thursday       10000 non-null object\n",
      "friday         10000 non-null object\n",
      "saturday       10000 non-null object\n",
      "sunday         10000 non-null object\n",
      "dtypes: object(8)\n",
      "memory usage: 625.1+ KB\n",
      "None\n"
     ]
    }
   ],
   "source": [
    "review_fields = ['review_id', 'user_id', 'business_id', 'stars', 'date'] #text\n",
    "# user_id?\n",
    "business_fields = ['business_id', 'name', 'city', 'state', 'postal_code', 'latitude', 'longitude', 'stars', 'review_count']\n",
    "\n",
    "business_df = pd.read_csv(\"yelp_business.csv\", usecols=business_fields)\n",
    "hours_chunks = pd.read_csv(\"yelp_business_hours.csv\",chunksize=10000)\n",
    "review_chunks = pd.read_csv(\"yelp_review.csv\",usecols=review_fields,chunksize=10000)\n",
    "\n",
    "print(business_df.info())\n",
    "print(\"-------------\")\n",
    "for chunk in review_chunks:\n",
    "    print(chunk.info())\n",
    "    print(\"------------------\")\n",
    "    break\n",
    "for chunk in hours_chunks:\n",
    "    print(chunk.info())\n",
    "    break"
   ]
  },
  {
   "cell_type": "markdown",
   "metadata": {},
   "source": [
    "# Data Cleaning\n",
    "### Drop missing values\n",
    "We're going to drop the missing values that we don't need"
   ]
  },
  {
   "cell_type": "code",
   "execution_count": 102,
   "metadata": {
    "collapsed": true
   },
   "outputs": [],
   "source": [
    "business_df = business_df.dropna()\n",
    "#reviews = [chunk for chunks in review_chunks]"
   ]
  },
  {
   "cell_type": "markdown",
   "metadata": {},
   "source": [
    "# Chunk Information\n",
    "There are 18 Chunks of (approximate) size 10,000 for Business Hours\n",
    "\n",
    "There are 526 chunks of (approximate) size 10,000 for Review Chunks (Before Cleaning)"
   ]
  },
  {
   "cell_type": "code",
   "execution_count": 97,
   "metadata": {},
   "outputs": [
    {
     "name": "stdout",
     "output_type": "stream",
     "text": [
      "Chunks:  526\n"
     ]
    }
   ],
   "source": [
    "count = 0\n",
    "for i in review_chunks:\n",
    "    count += 1\n",
    "print(\"Chunks: \",count)"
   ]
  },
  {
   "cell_type": "code",
   "execution_count": 67,
   "metadata": {
    "collapsed": true
   },
   "outputs": [],
   "source": [
    "#plt.scatter(business_df['review_count'],business_df['stars'])"
   ]
  },
  {
   "cell_type": "code",
   "execution_count": 105,
   "metadata": {
    "scrolled": false
   },
   "outputs": [
    {
     "data": {
      "image/png": "[encoded data removed]",
      "text/plain": [
       "<matplotlib.figure.Figure at 0x7ff6c61bdf60>"
      ]
     },
     "metadata": {},
     "output_type": "display_data"
    }
   ],
   "source": [
    "business_mod_1 = business_df[business_df.review_count > 1000]\n",
    "business_mod_2 = business_df[business_df.review_count < 1000]\n",
    "plt.scatter(business_mod_1['review_count'], business_mod_1['stars'],color=\"orange\")\n",
    "plt.scatter(business_mod_2['review_count'], business_mod_2['stars'],color=\"green\")\n",
    "plt.title(\"Review Count vs Stars\")\n",
    "plt.axvline(1000)\n",
    "plt.axvline(3000)\n",
    "plt.xlabel(\"Review Count\")\n",
    "plt.ylabel(\"Stars\")\n",
    "plt.show()"
   ]
  },
  {
   "cell_type": "markdown",
   "metadata": {},
   "source": [
    "Interesting note -> The majority of businesses with more than 3,000 reviews Have a 2.5 rating or above"
   ]
  },
  {
   "cell_type": "code",
   "execution_count": null,
   "metadata": {
    "collapsed": true
   },
   "outputs": [],
   "source": [
    "business_mod = business_df[business_df.review_count > 1000]\n"
   ]
  },
  {
   "cell_type": "markdown",
   "metadata": {},
   "source": []
  }
 ],
 "metadata": {
  "kernelspec": {
   "display_name": "Python 3",
   "language": "python",
   "name": "python3"
  },
  "language_info": {
   "codemirror_mode": {
    "name": "ipython",
    "version": 3
   },
   "file_extension": ".py",
   "mimetype": "text/x-python",
   "name": "python",
   "nbconvert_exporter": "python",
   "pygments_lexer": "ipython3",
   "version": "3.6.3"
  }
 },
 "nbformat": 4,
 "nbformat_minor": 2
}
